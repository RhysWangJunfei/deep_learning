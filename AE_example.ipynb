{
  "nbformat": 4,
  "nbformat_minor": 0,
  "metadata": {
    "colab": {
      "name": "AE_example.ipynb",
      "provenance": [],
      "authorship_tag": "ABX9TyN3rwHrsgjjXdo7IcITlkjH",
      "include_colab_link": true
    },
    "kernelspec": {
      "name": "python3",
      "display_name": "Python 3"
    }
  },
  "cells": [
    {
      "cell_type": "markdown",
      "metadata": {
        "id": "view-in-github",
        "colab_type": "text"
      },
      "source": [
        "<a href=\"https://colab.research.google.com/github/RhysWangJunfei/deep_learning/blob/master/AE_example.ipynb\" target=\"_parent\"><img src=\"https://colab.research.google.com/assets/colab-badge.svg\" alt=\"Open In Colab\"/></a>"
      ]
    },
    {
      "cell_type": "code",
      "metadata": {
        "id": "_Kt_H2LY86rE"
      },
      "source": [
        "#AE training\n",
        "from keras.layers import Input, Dense\n",
        "from keras.models import Model\n",
        "# this is the size of our encoded representations\n",
        "encoding_dim = 16  # 32 floats -> compression of factor 24.5, assuming the input is 784 floats\n",
        "\n",
        "### Encoder\n",
        "# this is our input placeholder\n",
        "input_img = Input(shape=(784,))\n",
        "# \"encoded\" is the encoded representation of the input\n",
        "en_layer1 = Dense(512, activation='relu')(input_img)\n",
        "en_layer2 = Dense(256, activation='relu')(en_layer1)\n",
        "en_layer3 = Dense(128, activation='relu')(en_layer2)\n",
        "en_layer4 = Dense(64, activation='relu')(en_layer3)\n",
        "encoded = Dense(encoding_dim, activation='relu')(en_layer4)\n",
        "\n",
        "### Decoder\n",
        "# \"decoded\" is the lossy reconstruction of the input\n",
        "de_layer1 = Dense(64, activation='relu')(encoded)\n",
        "de_layer2 = Dense(128, activation='relu')(de_layer1)\n",
        "de_layer3 = Dense(256, activation='relu')(de_layer2)\n",
        "de_layer4 = Dense(512, activation='relu')(de_layer3)\n",
        "decoded = Dense(784, activation='relu')(de_layer4)\n",
        "\n",
        "# this model maps an input to its reconstruction\n",
        "autoencoder = Model(input_img, decoded)"
      ],
      "execution_count": null,
      "outputs": []
    },
    {
      "cell_type": "code",
      "metadata": {
        "id": "56AZtczr9Bvp"
      },
      "source": [
        "autoencoder.compile(optimizer='adam', loss='mse')\n",
        "history = autoencoder.fit(ft_trainset, ft_trainset,\n",
        "                epochs=1000,\n",
        "                batch_size=1024,\n",
        "                shuffle=True,\n",
        "                validation_data=(ft_cvset, ft_cvset))"
      ],
      "execution_count": null,
      "outputs": []
    },
    {
      "cell_type": "code",
      "metadata": {
        "id": "mlZwrRUP9E7i"
      },
      "source": [
        "print(history.history.keys())\n",
        "# summarize history for accuracy\n",
        "plt.plot(history.history['loss'])\n",
        "plt.plot(history.history['val_loss'])\n",
        "plt.title('model loss')\n",
        "plt.ylabel('loss')\n",
        "plt.xlabel('epoch')\n",
        "plt.legend(['train', 'test'], loc='upper left')\n",
        "plt.show()"
      ],
      "execution_count": null,
      "outputs": []
    }
  ]
}