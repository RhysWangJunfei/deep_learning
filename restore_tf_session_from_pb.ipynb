{
  "nbformat": 4,
  "nbformat_minor": 0,
  "metadata": {
    "colab": {
      "name": "restore_tf_session_from_pb.ipynb",
      "version": "0.3.2",
      "provenance": [],
      "collapsed_sections": [],
      "include_colab_link": true
    },
    "kernelspec": {
      "name": "python3",
      "display_name": "Python 3"
    }
  },
  "cells": [
    {
      "cell_type": "markdown",
      "metadata": {
        "id": "view-in-github",
        "colab_type": "text"
      },
      "source": [
        "<a href=\"https://colab.research.google.com/github/RhysWangJunfei/deep_learning/blob/master/restore_tf_session_from_pb.ipynb\" target=\"_parent\"><img src=\"https://colab.research.google.com/assets/colab-badge.svg\" alt=\"Open In Colab\"/></a>"
      ]
    },
    {
      "cell_type": "markdown",
      "metadata": {
        "id": "6vcRQ1_CBZTu",
        "colab_type": "text"
      },
      "source": [
        "We are now trying to deploy our Deep Learning model onto Google Cloud. It is required to use Google Function to trigger the Deep Learning predictions. However, when pre-trained models are stored on cloud, it is impossible to get the exact directory path and restore the tensorflow session like what we did on local machine.\n",
        "\n",
        "So we turn to use SavedModel, which is quite like a 'Prediction Mode' of tensorflow.\n",
        "\n",
        "We got the idea from medium post:\n",
        "https://medium.com/@jsflo.dev/saving-and-loading-a-tensorflow-model-using-the-savedmodel-api-17645576527\n",
        "\n",
        "The official tutorial of Tensorflow:\n",
        "https://www.tensorflow.org/guide/saved_model"
      ]
    },
    {
      "cell_type": "markdown",
      "metadata": {
        "id": "9GhkpEgvDEN_",
        "colab_type": "text"
      },
      "source": [
        "# The Definition of the Graph"
      ]
    },
    {
      "cell_type": "code",
      "metadata": {
        "id": "4CSgrC84BIOe",
        "colab_type": "code",
        "colab": {}
      },
      "source": [
        "'''RNN Model Definition'''\n",
        "tf.reset_default_graph()\n",
        "''''''\n",
        "#define inputs\n",
        "tf_x = tf.placeholder(tf.float32, [None, window_size,1],name='x')\n",
        "tf_y = tf.placeholder(tf.int32, [None, 2],name='y')\n",
        "\n",
        "\n",
        "cells = [tf.keras.layers.LSTMCell(units=n) for n in num_units]\n",
        "stacked_rnn_cell = tf.keras.layers.StackedRNNCells(cells)\n",
        "outputs, (h_c, h_n) = tf.nn.dynamic_rnn(\n",
        "        stacked_rnn_cell,                   # cell you have chosen\n",
        "        tf_x,                      # input\n",
        "        initial_state=None,         # the initial hidden state\n",
        "        dtype=tf.float32,           # must given if set initial_state = None\n",
        "        time_major=False,           # False: (batch, time step, input); True: (time step, batch, input)\n",
        ")\n",
        "l1 = tf.layers.dense(outputs[:, -1, :],32,activation=tf.nn.relu,name='l1')\n",
        "l2 = tf.layers.dense(l1,8,activation=tf.nn.relu,name='l6')\n",
        "pred = tf.layers.dense(l2,2,activation=tf.nn.relu,name='pred')\n",
        "\n",
        "with tf.name_scope('loss'):\n",
        "    cross_entropy =  tf.nn.softmax_cross_entropy_with_logits_v2(labels=tf_y, logits=pred) \n",
        "    loss = tf.reduce_mean(cross_entropy)\n",
        "    tf.summary.scalar(\"loss\",tensor=loss)\n",
        "train_op = tf.train.AdamOptimizer(LR).minimize(loss)\n",
        "accuracy = tf.reduce_mean(tf.cast(tf.equal(tf.argmax(tf_y, axis=1), tf.argmax(pred, axis=1)), tf.float32))\n",
        "\n",
        "init_op = tf.group(tf.global_variables_initializer(), tf.local_variables_initializer()) \n",
        "saver = tf.train.Saver()"
      ],
      "execution_count": 0,
      "outputs": []
    },
    {
      "cell_type": "markdown",
      "metadata": {
        "id": "PjM2CcvFDTI0",
        "colab_type": "text"
      },
      "source": [
        "# Training and Saving "
      ]
    },
    {
      "cell_type": "code",
      "metadata": {
        "id": "TQPlh7O7DZAJ",
        "colab_type": "code",
        "colab": {}
      },
      "source": [
        "sess = tf.Session()\n",
        "sess.run(init_op)\n",
        "\n",
        "for i in range(0,n):\n",
        "    sess.run(train_op,{tf_x:batch_X , tf_y:batch_y})\n",
        "    ...   \n",
        "tf.saved_model.simple_save(sess, 'simple_save/model', \\\n",
        "                           inputs={\"x\": tf_x},outputs={\"pred\": pred})\n",
        "sess.close()"
      ],
      "execution_count": 0,
      "outputs": []
    },
    {
      "cell_type": "markdown",
      "metadata": {
        "id": "5ILnV3WlEPEC",
        "colab_type": "text"
      },
      "source": [
        "then we got the saved model on the target directory:\n",
        "saved_model.pb, /variables/variables.index,/variables/variables.data-00000-of-00001"
      ]
    },
    {
      "cell_type": "markdown",
      "metadata": {
        "id": "0LVzJfumFGYD",
        "colab_type": "text"
      },
      "source": [
        "# Restoring and Predicting"
      ]
    },
    {
      "cell_type": "code",
      "metadata": {
        "id": "v8RNtDq1FLsq",
        "colab_type": "code",
        "colab": {}
      },
      "source": [
        "with tf.Session(graph=tf.Graph()) as sess:\n",
        "    tf.saved_model.loader.load(sess, [\"serve\"], 'simple_save/model')\n",
        "    batch = sess.run('pred/Relu:0',feed_dict={'x:0':dataX}) "
      ],
      "execution_count": 0,
      "outputs": []
    }
  ]
}